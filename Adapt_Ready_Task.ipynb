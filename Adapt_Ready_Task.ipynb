{
  "nbformat": 4,
  "nbformat_minor": 0,
  "metadata": {
    "colab": {
      "provenance": [],
      "authorship_tag": "ABX9TyP5xHHzv/CVdMqC+OtfqPxz",
      "include_colab_link": true
    },
    "kernelspec": {
      "name": "python3",
      "display_name": "Python 3"
    },
    "language_info": {
      "name": "python"
    }
  },
  "cells": [
    {
      "cell_type": "markdown",
      "metadata": {
        "id": "view-in-github",
        "colab_type": "text"
      },
      "source": [
        "<a href=\"https://colab.research.google.com/github/KalpeshBoradkar/1st-Notebook/blob/main/Adapt_Ready_Task.ipynb\" target=\"_parent\"><img src=\"https://colab.research.google.com/assets/colab-badge.svg\" alt=\"Open In Colab\"/></a>"
      ]
    },
    {
      "cell_type": "markdown",
      "source": [
        "2. Given an unsorted array of integers, find the length of the longest continuous increasing subsequence (subarray).\n"
      ],
      "metadata": {
        "id": "I7MeUYbQedrf"
      }
    },
    {
      "source": [
        "#consider Longest continuous increasing subsequences as lcis\n",
        "\n",
        "def find_length_of_lcis(nums):\n",
        "    if not nums:   #if input array is empty then return 0\n",
        "        return 0\n",
        "\n",
        "    max_length = 1\n",
        "    current_length = 1\n",
        "\n",
        "    #start iterating from the second element (index 1) and compare it with the previous element.\n",
        "\n",
        "    for i in range(1, len(nums)):\n",
        "        if nums[i] > nums[i - 1]:\n",
        "\n",
        "    #If the current element is not greater than the previous one, we reset the current length to 1.\n",
        "\n",
        "            current_length += 1\n",
        "            max_length = max(max_length, current_length)\n",
        "        else:\n",
        "            current_length = 1\n",
        "\n",
        "    return max_length\n",
        "\n",
        "# Test cases\n",
        "print(find_length_of_lcis([1, 3, 5, 4, 7]))\n",
        "print(find_length_of_lcis([2, 2, 2, 2, 2]))"
      ],
      "cell_type": "code",
      "metadata": {
        "colab": {
          "base_uri": "https://localhost:8080/"
        },
        "id": "WAI5Hinrc-7F",
        "outputId": "afeff259-55db-485b-9858-23511426cbca"
      },
      "execution_count": 5,
      "outputs": [
        {
          "output_type": "stream",
          "name": "stdout",
          "text": [
            "3\n",
            "1\n"
          ]
        }
      ]
    },
    {
      "cell_type": "markdown",
      "source": [
        "3. Given a list of non negative integers, arrange them such that they form the largest\n",
        "number.\n"
      ],
      "metadata": {
        "id": "4JbLhUWkf0LM"
      }
    },
    {
      "cell_type": "code",
      "source": [
        "#import necessary dependencies\n",
        "from functools import cmp_to_key\n",
        "\n",
        "def largest_number(nums):\n",
        "    # Convert integers to strings for custom sorting\n",
        "    nums = list(map(str, nums))\n",
        "\n",
        "    # Custom comparator for sorting\n",
        "    def compare(a, b):\n",
        "        if a + b > b + a:\n",
        "            return -1\n",
        "        elif a + b < b + a:\n",
        "            return 1\n",
        "        else:\n",
        "            return 0\n",
        "\n",
        "    # Sort the array with custom comparator\n",
        "    nums.sort(key=cmp_to_key(compare))\n",
        "\n",
        "    # Join the sorted array to form the largest number\n",
        "    result = ''.join(nums)\n",
        "\n",
        "    # Edge case: when the result is '000...0', return '0'\n",
        "    return result if result[0] != '0' else '0'\n",
        "\n",
        "# Test cases\n",
        "print(largest_number([10, 2]))\n",
        "print(largest_number([3, 30, 34, 5, 9]))\n"
      ],
      "metadata": {
        "colab": {
          "base_uri": "https://localhost:8080/"
        },
        "id": "oLTJX1UmdJER",
        "outputId": "5dcaa963-a28e-463f-833b-0a53ae7d1370"
      },
      "execution_count": 6,
      "outputs": [
        {
          "output_type": "stream",
          "name": "stdout",
          "text": [
            "210\n",
            "9534330\n"
          ]
        }
      ]
    }
  ]
}